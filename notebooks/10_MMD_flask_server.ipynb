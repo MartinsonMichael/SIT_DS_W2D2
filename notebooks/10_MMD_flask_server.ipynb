{
 "cells": [
  {
   "cell_type": "code",
   "execution_count": 10,
   "id": "09d54d67",
   "metadata": {},
   "outputs": [],
   "source": [
    "#!/usr/bin/env python\n",
    "\n",
    "# import all dependencies\n",
    "import joblib\n",
    "import flask\n",
    "import pandas as pd\n",
    "import os\n",
    "from typing import Dict, Union, Tuple\n",
    "\n",
    "from flask_ngrok import run_with_ngrok"
   ]
  },
  {
   "cell_type": "code",
   "execution_count": 11,
   "id": "67c20b4a",
   "metadata": {},
   "outputs": [],
   "source": [
    "# setup\n",
    "BASE_PATH = '..'\n",
    "FEATURES = sorted([\n",
    "    \"fixed acidity\", \"volatile acidity\", \"citric acid\", \"residual sugar\",\n",
    "    \"chlorides\", \"free sulfur dioxide\", \"total sulfur dioxide\", \"density\",\n",
    "    \"pH\", \"sulphates\", \"alcohol\",\n",
    "])\n",
    "\n",
    "# load model\n",
    "model = joblib.load(os.path.join(BASE_PATH, 'models', 'regression_model'), 'r')\n",
    "\n",
    "# initiate flask app\n",
    "app = flask.Flask(__name__)\n",
    "run_with_ngrok(app)"
   ]
  },
  {
   "cell_type": "code",
   "execution_count": 12,
   "id": "418370ef",
   "metadata": {},
   "outputs": [],
   "source": [
    "# request validation function\n",
    "\n",
    "def validate_request(json_data: Dict[str, Dict[str, Union[list, float, int]]]) -> Tuple[bool, str]:\n",
    "    \"\"\"\n",
    "    Check request data for validity.\n",
    "    :param json_data: input json from request body\n",
    "    :return: Tuple[boolean, string], (True, 'ok') if data is valid, (False, <error message>) otherwise\n",
    "    \"\"\"\n",
    "    # check data structure\n",
    "    if not isinstance(json_data, dict):\n",
    "        return False, f\"data isn't a dictionary, it's type is {type(json_data)}\"\n",
    "    if 'features' not in json_data.keys():\n",
    "        return False, \"No 'features' key\"\n",
    "    if not isinstance(json_data['features'], dict):\n",
    "        return False, \"data['features'] isn't a dictionary\"\n",
    "\n",
    "    # check that features have the same count\n",
    "    feature_num = None\n",
    "    for feature in FEATURES:\n",
    "        if feature not in json_data['features'].keys():\n",
    "            return False, f\"There is no feature {feature}\"\n",
    "        if isinstance(json_data['features'][feature], (int, float)):\n",
    "            if feature_num is None:\n",
    "                feature_num = 1\n",
    "            else:\n",
    "                if feature_num != 1:\n",
    "                    return False, \"Mismatch in feature count\"\n",
    "        elif isinstance(json_data['features'][feature], list):\n",
    "            if feature_num is None:\n",
    "                feature_num = len(json_data['features'][feature])\n",
    "            else:\n",
    "                if feature_num != len(json_data['features'][feature]):\n",
    "                    return False, \"Mismatch in feature count\"\n",
    "        else:\n",
    "            return False, \"Features must bu of type 'int, float' - for single prediction, 'list' for multiple\"\n",
    "\n",
    "    return True, \"Ok\""
   ]
  },
  {
   "cell_type": "code",
   "execution_count": 13,
   "id": "562f25c3",
   "metadata": {},
   "outputs": [],
   "source": [
    "def prepare_data(json_data: Dict[str, Dict[str, Union[list, int, float]]]) -> pd.DataFrame:\n",
    "    \"\"\"\n",
    "    Helper function to create appropriate data format for ml model \n",
    "    \n",
    "    :param json_data: request data\n",
    "    :return: pd.DataFrame with all needed features in right order\n",
    "    \"\"\"\n",
    "    return pd.DataFrame(\n",
    "        data={\n",
    "            feature: [json_data['features'][feature]]\n",
    "            for feature in FEATURES\n",
    "        }\n",
    "    )"
   ]
  },
  {
   "cell_type": "code",
   "execution_count": 14,
   "id": "4edcb304",
   "metadata": {},
   "outputs": [],
   "source": [
    "@app.route('/', methods=['POST'])\n",
    "def make_prediction():\n",
    "    # get data from request\n",
    "    json_data = flask.request.get_json()\n",
    "    # validate data\n",
    "    is_data_valid, validator_message = validate_request(json_data)\n",
    "    if not is_data_valid:\n",
    "        return flask.jsonify(\n",
    "            error_message=(\n",
    "                f\"Wrong request structure.\\n\\r\"\n",
    "                f\"You should have dict('features': dict(<all features>: feature value))\\n\\r\"\n",
    "                f\"Required feature list: {FEATURES}\\n\\r\",\n",
    "                f\"Validation message: {validator_message}\"\n",
    "            ),\n",
    "        )\n",
    "    # create df\n",
    "    df = prepare_data(json_data)\n",
    "    # run model prediction\n",
    "    predictions = model.predict(df)\n",
    "    # return answer\n",
    "    return flask.jsonify(\n",
    "        predictions=list(map(float, predictions)),\n",
    "    )"
   ]
  },
  {
   "cell_type": "code",
   "execution_count": 15,
   "id": "21b1e8e6",
   "metadata": {},
   "outputs": [
    {
     "name": "stdout",
     "output_type": "stream",
     "text": [
      " * Serving Flask app \"__main__\" (lazy loading)\n",
      " * Environment: production\n",
      "\u001b[31m   WARNING: This is a development server. Do not use it in a production deployment.\u001b[0m\n",
      "\u001b[2m   Use a production WSGI server instead.\u001b[0m\n",
      " * Debug mode: off\n"
     ]
    },
    {
     "name": "stderr",
     "output_type": "stream",
     "text": [
      " * Running on http://127.0.0.1:5000/ (Press CTRL+C to quit)\n",
      "Exception in thread Thread-4:\n",
      "Traceback (most recent call last):\n",
      "  File \"/usr/lib/python3.8/threading.py\", line 932, in _bootstrap_inner\n",
      "    self.run()\n",
      "  File \"/usr/lib/python3.8/threading.py\", line 1254, in run\n",
      "    self.function(*self.args, **self.kwargs)\n",
      "  File \"/data/Education/SIT/DataSceince/pyenv/lib/python3.8/site-packages/flask_ngrok.py\", line 70, in start_ngrok\n",
      "    ngrok_address = _run_ngrok()\n",
      "  File \"/data/Education/SIT/DataSceince/pyenv/lib/python3.8/site-packages/flask_ngrok.py\", line 31, in _run_ngrok\n",
      "    ngrok = subprocess.Popen([executable, 'http', '5000'])\n",
      "  File \"/usr/lib/python3.8/subprocess.py\", line 854, in __init__\n",
      "    self._execute_child(args, executable, preexec_fn, close_fds,\n",
      "  File \"/usr/lib/python3.8/subprocess.py\", line 1702, in _execute_child\n",
      "    raise child_exception_type(errno_num, err_msg, err_filename)\n",
      "PermissionError: [Errno 13] Permission denied: '/tmp/ngrok/ngrok'\n",
      "127.0.0.1 - - [22/Apr/2021 09:41:21] \"\u001b[37mPOST / HTTP/1.1\u001b[0m\" 200 -\n"
     ]
    }
   ],
   "source": [
    "# run flack application\n",
    "if __name__ == '__main__':\n",
    "    app.run()"
   ]
  },
  {
   "cell_type": "code",
   "execution_count": null,
   "id": "0b1aa7f1",
   "metadata": {},
   "outputs": [],
   "source": []
  }
 ],
 "metadata": {
  "kernelspec": {
   "display_name": "Python 3",
   "language": "python",
   "name": "python3"
  },
  "language_info": {
   "codemirror_mode": {
    "name": "ipython",
    "version": 3
   },
   "file_extension": ".py",
   "mimetype": "text/x-python",
   "name": "python",
   "nbconvert_exporter": "python",
   "pygments_lexer": "ipython3",
   "version": "3.8.5"
  }
 },
 "nbformat": 4,
 "nbformat_minor": 5
}
