{
 "cells": [
  {
   "cell_type": "code",
   "execution_count": 4,
   "id": "ab9ebf6d",
   "metadata": {},
   "outputs": [],
   "source": [
    "#!/usr/bin/env python\n",
    "\n",
    "import requests\n",
    "import json"
   ]
  },
  {
   "cell_type": "code",
   "execution_count": 5,
   "id": "f3cb73db",
   "metadata": {},
   "outputs": [],
   "source": [
    "def main() -> None:\n",
    "    response = requests.request(\n",
    "        method=\"POST\",\n",
    "        url=\"http://127.0.0.1:5000/\",\n",
    "        headers={\n",
    "            \"Content-Type\": \"application/json\",\n",
    "        },\n",
    "        data=json.dumps({\n",
    "            \"features\": {\n",
    "                \"fixed acidity\": 7.4,\n",
    "                \"volatile acidity\": 0.7,\n",
    "                \"citric acid\": 0,\n",
    "                \"residual sugar\": 1.9,\n",
    "                \"chlorides\": 0.076,\n",
    "                \"free sulfur dioxide\": 11,\n",
    "                \"total sulfur dioxide\": 34,\n",
    "                \"density\": 0.9978,\n",
    "                \"pH\": 3.51,\n",
    "                \"sulphates\": 0.56,\n",
    "                \"alcohol\": 9.4,\n",
    "            }\n",
    "        }),\n",
    "    )\n",
    "    print(\n",
    "        f\"Got response from Wine Prediction server: {response}\\n\"\n",
    "        f\"{response.text}\"\n",
    "    )"
   ]
  },
  {
   "cell_type": "code",
   "execution_count": 6,
   "id": "38a363f3",
   "metadata": {},
   "outputs": [
    {
     "name": "stdout",
     "output_type": "stream",
     "text": [
      "Got response from Wine Prediction server: <Response [200]>\n",
      "{\"predictions\":[5.015809882480472]}\n",
      "\n"
     ]
    }
   ],
   "source": [
    "if __name__ == '__main__':\n",
    "    print(\"Now client is working in 'localhost' mode\")\n",
    "    main()"
   ]
  }
 ],
 "metadata": {
  "kernelspec": {
   "display_name": "Python 3",
   "language": "python",
   "name": "python3"
  },
  "language_info": {
   "codemirror_mode": {
    "name": "ipython",
    "version": 3
   },
   "file_extension": ".py",
   "mimetype": "text/x-python",
   "name": "python",
   "nbconvert_exporter": "python",
   "pygments_lexer": "ipython3",
   "version": "3.8.5"
  }
 },
 "nbformat": 4,
 "nbformat_minor": 5
}
